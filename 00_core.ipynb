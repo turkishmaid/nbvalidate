{
 "cells": [
  {
   "cell_type": "code",
   "execution_count": null,
   "metadata": {},
   "outputs": [],
   "source": [
    "# default_exp core"
   ]
  },
  {
   "cell_type": "markdown",
   "metadata": {},
   "source": [
    "# Module nbvalidate.core\n",
    "\n",
    "> Validate nbdev vs. requirements.\n",
    "\n",
    "I want to build an application thet\n",
    "- maninatins a database with some scraping results\n",
    "- offers a command line tool to run in cron that updates the database\n",
    "- visualizes the data from the database in a Jupyter notebook (as end user UI)\n",
    "- is installed as a development package on the dev computer\n",
    "- is installed as a pipy package on the target computer\n",
    "- delivers some data (resources) in the package content\n",
    "\n",
    "Does nbdev support such?"
   ]
  },
  {
   "cell_type": "code",
   "execution_count": null,
   "metadata": {},
   "outputs": [],
   "source": [
    "#hide\n",
    "from nbdev.showdoc import *"
   ]
  },
  {
   "cell_type": "code",
   "execution_count": null,
   "metadata": {},
   "outputs": [],
   "source": [
    "#export\n",
    "import os\n",
    "from pathlib import Path"
   ]
  },
  {
   "cell_type": "markdown",
   "metadata": {},
   "source": [
    "## Persistency\n",
    "\n",
    "All persistency will be in a fixed name folder `~/.nbvalidate` below the user's home directory. Without this folder, the module will not work at all. \n",
    "\n",
    "Notes\n",
    "- You can fool `nbvalidate` by supplying a _file_ with that name. Just don't do that :)\n",
    "- The logfiles will go here. So the creation of that folder cannot be logged.\n",
    "- The return value indicates whether the folder was created (`False`) or did already exist (`True`)\n",
    "\n",
    "Sidenotes\n",
    "- while `nbdef` suffers from a lack of code completion, it also misses docstring templating when defining a function"
   ]
  },
  {
   "cell_type": "code",
   "execution_count": null,
   "metadata": {},
   "outputs": [],
   "source": [
    "#export\n",
    "def dotfolder():\n",
    "    return Path(os.environ[\"HOME\"]) / \".nbvalidate\""
   ]
  },
  {
   "cell_type": "code",
   "execution_count": null,
   "metadata": {},
   "outputs": [],
   "source": [
    "#export\n",
    "def ensure_dotfolder():\n",
    "    folder = dotfolder()\n",
    "    if not folder.exists():\n",
    "        folder.mkdir()\n",
    "        return False\n",
    "    return True"
   ]
  },
  {
   "cell_type": "code",
   "execution_count": null,
   "metadata": {},
   "outputs": [
    {
     "name": "stdout",
     "output_type": "stream",
     "text": [
      "~/.nbvalidate was already there\n"
     ]
    }
   ],
   "source": [
    "was_already_there = ensure_dotfolder()\n",
    "# hide away my username in the output :)\n",
    "print(f'{str(dotfolder()).replace(os.environ[\"HOME\"],\"~\",1)} was {\"already there\" if was_already_there else \"created\"}')\n",
    "assert dotfolder().exists()\n",
    "# the following is also testing the GitHub CI environment...\n",
    "assert dotfolder().is_dir()"
   ]
  },
  {
   "cell_type": "markdown",
   "metadata": {},
   "source": [
    "## Finally\n",
    "update module to include all exported cells in the notebook.\n",
    "- cf. https://nbdev.fast.ai/#Getting-Started\n",
    "- alternatively, run `nbdev_build_lib` from tzhe command line."
   ]
  },
  {
   "cell_type": "code",
   "execution_count": null,
   "metadata": {},
   "outputs": [
    {
     "name": "stdout",
     "output_type": "stream",
     "text": [
      "Converted 00_core.ipynb.\n",
      "Converted index.ipynb.\n"
     ]
    }
   ],
   "source": [
    "# last cell\n",
    "from nbdev.export import *\n",
    "notebook2script()"
   ]
  },
  {
   "cell_type": "code",
   "execution_count": null,
   "metadata": {},
   "outputs": [],
   "source": []
  }
 ],
 "metadata": {
  "kernelspec": {
   "display_name": "Python [conda env:devops3] *",
   "language": "python",
   "name": "conda-env-devops3-py"
  }
 },
 "nbformat": 4,
 "nbformat_minor": 2
}
