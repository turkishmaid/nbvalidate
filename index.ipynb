{
 "cells": [
  {
   "cell_type": "code",
   "execution_count": null,
   "metadata": {},
   "outputs": [],
   "source": [
    "#hide\n",
    "from nbvalidate.core import *"
   ]
  },
  {
   "cell_type": "markdown",
   "metadata": {},
   "source": [
    "Sidenote: after adding functions to `00_core.ipynb` and `notebook2script()` being executed there, the bove  `import` failed like so: `ModuleNotFoundError: No module named 'nbvalidate'`. You have to adapt `lib_name` in `settings.ini` before. Every tiny litte bit like that adds to your reputation, fast.ai :("
   ]
  },
  {
   "cell_type": "markdown",
   "metadata": {},
   "source": [
    "# nbvalidate\n",
    "\n",
    "> (editing this in for the n-th time:) Validate nbdev vs. requirements."
   ]
  },
  {
   "cell_type": "markdown",
   "metadata": {},
   "source": [
    "This file will become your README and also the index of your documentation."
   ]
  },
  {
   "cell_type": "markdown",
   "metadata": {},
   "source": [
    "## Install"
   ]
  },
  {
   "cell_type": "markdown",
   "metadata": {},
   "source": [
    "`pip install nbvalidate`"
   ]
  },
  {
   "cell_type": "markdown",
   "metadata": {},
   "source": [
    "## How to use"
   ]
  },
  {
   "cell_type": "markdown",
   "metadata": {},
   "source": [
    "All persistency will be in a fixed name folder `~/.nbvalidate` below the user's home directory. Without this folder, the module will not work at all. Before using the package, ensure that this folder is in place:"
   ]
  },
  {
   "cell_type": "code",
   "execution_count": null,
   "metadata": {},
   "outputs": [
    {
     "data": {
      "text/plain": [
       "True"
      ]
     },
     "execution_count": null,
     "metadata": {},
     "output_type": "execute_result"
    }
   ],
   "source": [
    "ensure_dotfolder()"
   ]
  },
  {
   "cell_type": "markdown",
   "metadata": {},
   "source": [
    "Sidenote: raises `NameError: name 'Path' is not defined` in `nbvalidate/core.py in dotfolder()`, while `00_core.ipynb` tests fine. Wtf is this again? \n",
    "\n",
    "Only deleting the generated `nbvalidate` folder and doing `notebook2script()`\n",
    "did the trick\n",
    "Can anything please just _work_ in `nbdev`? I mean, I am willing to accept all sorts of architectural drawbacks like \n",
    "- no autocomplete and other IDE basics\n",
    "- no debugger\n",
    "- constant notebook/shell switch\n",
    "- bad templating\n",
    "\n",
    "to get\n",
    "- automatic packaging\n",
    "- GitHub pages generation (oversold als \"literate programming\")\n",
    "- cool CI template\n",
    "\n",
    "But these permanent mini-fails will likely kick `nbdev` out again. But maybe it's just distracting from the fact that the architectural issues are by far outweigthing the advantages."
   ]
  },
  {
   "cell_type": "code",
   "execution_count": null,
   "metadata": {},
   "outputs": [],
   "source": []
  }
 ],
 "metadata": {
  "kernelspec": {
   "display_name": "Python 3",
   "language": "python",
   "name": "python3"
  }
 },
 "nbformat": 4,
 "nbformat_minor": 2
}
